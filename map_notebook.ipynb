{
 "cells": [
  {
   "cell_type": "code",
   "execution_count": null,
   "metadata": {
    "scrolled": false
   },
   "outputs": [],
   "source": [
    "import yaml\n",
    "import gmaps\n",
    "import pandas as pd\n",
    "\n",
    "reg = 'spb' #change to get other regions spb/msk/ekb\n",
    "path_to_csv = f'./cities/{reg}.csv'\n",
    "\n",
    "\n",
    "with open(\"config.yaml\", 'r') as stream:\n",
    "    config = yaml.safe_load(stream)    \n",
    "gmaps.configure(api_key=config['API_key'])\n",
    "\n",
    "median_price = pd.read_csv(path_to_csv)\n",
    "locations = median_price[['lat', 'lon']]\n",
    "weights = median_price['weighted_price']\n",
    "fig = gmaps.figure()\n",
    "fig.add_layer(gmaps.heatmap_layer(locations, weights=weights))\n",
    "fig"
   ]
  }
 ],
 "metadata": {
  "kernelspec": {
   "display_name": "Python 3",
   "language": "python",
   "name": "python3"
  },
  "language_info": {
   "codemirror_mode": {
    "name": "ipython",
    "version": 3
   },
   "file_extension": ".py",
   "mimetype": "text/x-python",
   "name": "python",
   "nbconvert_exporter": "python",
   "pygments_lexer": "ipython3",
   "version": "3.7.3"
  }
 },
 "nbformat": 4,
 "nbformat_minor": 2
}
